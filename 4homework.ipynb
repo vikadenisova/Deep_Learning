{
  "nbformat": 4,
  "nbformat_minor": 0,
  "metadata": {
    "colab": {
      "name": "4homework.ipynb",
      "provenance": [],
      "collapsed_sections": [],
      "authorship_tag": "ABX9TyMfzrBfQyEse1zc2VUHIb42",
      "include_colab_link": true
    },
    "kernelspec": {
      "name": "python3",
      "display_name": "Python 3"
    },
    "language_info": {
      "name": "python"
    }
  },
  "cells": [
    {
      "cell_type": "markdown",
      "metadata": {
        "id": "view-in-github",
        "colab_type": "text"
      },
      "source": [
        "<a href=\"https://colab.research.google.com/github/vikadenisova/Deep_Learning/blob/main/4homework.ipynb\" target=\"_parent\"><img src=\"https://colab.research.google.com/assets/colab-badge.svg\" alt=\"Open In Colab\"/></a>"
      ]
    },
    {
      "cell_type": "markdown",
      "metadata": {
        "id": "Q8wwhCaPhKeP"
      },
      "source": [
        "**Раздел 4. Домашнее задание.**"
      ]
    },
    {
      "cell_type": "markdown",
      "metadata": {
        "id": "KA03mdJ_hUK_"
      },
      "source": [
        "**Почти двойной факториал**\n",
        "\n",
        "Реализуйте функцию almost_double_factorial(n), вычисляющую произведение всех нечётных натуральных чисел, не превосходящих n.\n",
        "В качестве аргумента ей передаётся натуральное (ноль -- натуральное) число n⩽100.\n",
        "Возвращаемое значение - вычисленное произведение.\n",
        "\n",
        "Комментарий. В случае, если n = 0, требуется вернуть 1."
      ]
    },
    {
      "cell_type": "code",
      "metadata": {
        "id": "cyFFKACphHot"
      },
      "source": [
        "def almost_double_factorial(n):\n",
        "  factorial = 1\n",
        "  for i in range(1,n+1):\n",
        "    if i%2 == 1:\n",
        "      factorial = factorial *i\n",
        "  return factorial"
      ],
      "execution_count": 14,
      "outputs": []
    },
    {
      "cell_type": "code",
      "metadata": {
        "colab": {
          "base_uri": "https://localhost:8080/"
        },
        "id": "rwG3epTjhI5g",
        "outputId": "cd6de79d-9775-4891-aa6e-a44a4254cc77"
      },
      "source": [
        "almost_double_factorial(7)"
      ],
      "execution_count": 18,
      "outputs": [
        {
          "output_type": "execute_result",
          "data": {
            "text/plain": [
              "105"
            ]
          },
          "metadata": {},
          "execution_count": 18
        }
      ]
    },
    {
      "cell_type": "markdown",
      "metadata": {
        "id": "flnquc6Jjnyr"
      },
      "source": [
        "**Хитрая сортировка**\n",
        " \n",
        "Пусть у нас есть следующий список, в котором элементы -- tuple из строк:\n",
        "\n",
        "*items = [('one', 'two'), ('three', 'four'), ('five', 'six'), ('string', 'a')]*\n",
        "\n",
        "Мы хотим отсортировать этот список по последней букве второго элемента каждого tuple, т.е. получить такой список:\n",
        "\n",
        "*sorted_items = [ ('string', 'a'), ('one', 'two'), ('three', 'four'), ('five', 'six'),]*"
      ]
    },
    {
      "cell_type": "code",
      "metadata": {
        "id": "ASJBv9WTkHff"
      },
      "source": [
        "items = [('one', 'two'), ('three', 'four'), ('five', 'six'), ('string', 'a')]"
      ],
      "execution_count": 19,
      "outputs": []
    },
    {
      "cell_type": "code",
      "metadata": {
        "id": "EVuYaqddjTEw"
      },
      "source": [
        "sorted_items = sorted(items, key=lambda x: (x[1])[-1])"
      ],
      "execution_count": 37,
      "outputs": []
    },
    {
      "cell_type": "code",
      "metadata": {
        "colab": {
          "base_uri": "https://localhost:8080/"
        },
        "id": "DpchrkV-mAqP",
        "outputId": "be0bffac-2616-479d-e5ac-e3da774b5a63"
      },
      "source": [
        "sorted_items"
      ],
      "execution_count": 38,
      "outputs": [
        {
          "output_type": "execute_result",
          "data": {
            "text/plain": [
              "[('string', 'a'), ('one', 'two'), ('three', 'four'), ('five', 'six')]"
            ]
          },
          "metadata": {},
          "execution_count": 38
        }
      ]
    },
    {
      "cell_type": "markdown",
      "metadata": {
        "id": "MMyLx9SknBiZ"
      },
      "source": [
        "**Слайсы**\n",
        " \n",
        "Дан list x:\n",
        "\n",
        "*x = [1, 2, 3, 4, 5]*\n",
        "\n",
        "Заполните слайc, чтобы результатом стал следующий list:\n",
        "\n",
        "[-5, 2, -3, 4, -1]"
      ]
    },
    {
      "cell_type": "code",
      "metadata": {
        "id": "h4tzdBabnqAA"
      },
      "source": [
        "x = [1, 2, 3, 4, 5]"
      ],
      "execution_count": 54,
      "outputs": []
    },
    {
      "cell_type": "code",
      "metadata": {
        "id": "TbyzMG-tnV6u"
      },
      "source": [
        "x[::-2] = [-1, -3, -5]"
      ],
      "execution_count": 57,
      "outputs": []
    },
    {
      "cell_type": "code",
      "metadata": {
        "colab": {
          "base_uri": "https://localhost:8080/"
        },
        "id": "tY2VzE3ensqn",
        "outputId": "cce5061a-0c64-42b5-f339-e93691e87323"
      },
      "source": [
        "x"
      ],
      "execution_count": 58,
      "outputs": [
        {
          "output_type": "execute_result",
          "data": {
            "text/plain": [
              "[-5, 2, -3, 4, -1]"
            ]
          },
          "metadata": {},
          "execution_count": 58
        }
      ]
    },
    {
      "cell_type": "markdown",
      "metadata": {
        "id": "62U3vwUHv9P7"
      },
      "source": [
        "**Создание массивов**\n",
        "\n",
        "Дан массив *A[0,…,N−1]*.\n",
        "Реализуйте функцию cumsum_and_erase, принимающую один обязательный аргумент *A* и один опциональный аргумент *erase*, по умолчанию равный 1.\n",
        "\n",
        "Функция должна выполнять следующие действия: \n",
        "\n",
        "*   сформировать массив *B[0,…,N−1]*, где B_i =A0+…+Ai -- массив частичных сумм массива A;\n",
        "*   удалить из массива B все элементы, равные параметру *erase*, получить массив С;\n",
        "*   вернуть C в качестве ответа."
      ]
    },
    {
      "cell_type": "code",
      "metadata": {
        "id": "oFb4k75r0ndr"
      },
      "source": [
        "def cumsum_and_erase(A, erase=1):\n",
        "    B = [0] * len(A)\n",
        "    for i in range(len(A) - 1):\n",
        "        B[i] = sum(A[:(i + 1)])\n",
        "    for k in range(len(A) - 1):\n",
        "        if B[k] == erase:\n",
        "            B.pop(k)\n",
        "    return B"
      ],
      "execution_count": null,
      "outputs": []
    },
    {
      "cell_type": "code",
      "metadata": {
        "id": "EYsjs3MvwxNk"
      },
      "source": [
        "def cumsum_and_erase(A,erase=1):\n",
        "  B = [0] * len(A)\n",
        "  for i in range(0,len(A)):\n",
        "    if sum(A[:(i + 1)]) !=erase:\n",
        "      B[i] = sum(A[:(i + 1)])\n",
        "  for k in range (0,len(A)-1):\n",
        "    if B[k] == 0:\n",
        "      B.pop(k)\n",
        "  return B"
      ],
      "execution_count": 148,
      "outputs": []
    },
    {
      "cell_type": "code",
      "metadata": {
        "id": "gigBLCk8w5MX"
      },
      "source": [
        "A = [5, 1, 4, 5, 14] \n",
        "B = cumsum_and_erase(A, erase=10) "
      ],
      "execution_count": 149,
      "outputs": []
    },
    {
      "cell_type": "code",
      "metadata": {
        "colab": {
          "base_uri": "https://localhost:8080/"
        },
        "id": "nKd5SrZJ07ac",
        "outputId": "0ec8a4d4-5502-4014-c86a-0664e06b084f"
      },
      "source": [
        "B"
      ],
      "execution_count": 150,
      "outputs": [
        {
          "output_type": "execute_result",
          "data": {
            "text/plain": [
              "[5, 6, 15, 29]"
            ]
          },
          "metadata": {},
          "execution_count": 150
        }
      ]
    },
    {
      "cell_type": "markdown",
      "metadata": {
        "id": "uzRwDFYA9fIQ"
      },
      "source": [
        "**Обработка текста**\n",
        "\n",
        "Дан список текстов, слова в которых разделены пробелами (можно считать, что знаков препинания нет). Часть слов является \"мусорными\": в них присутствуют цифры и спецсимволы. Отфильтруйте такие слова из каждого текста.\n",
        "\n",
        "Используйте функции str.split, str.isalpha, str.join, а также list comprehensions.\n",
        "\n",
        "Пример ввода:\n",
        "\n",
        "**['1 thousand devils', 'My name is 9Pasha', 'Room #125 costs $100', '888']*\n",
        "\n",
        "Пример вывода: \n",
        "\n",
        "**['thousand devils', 'My name is', 'Room costs', '']*\n",
        "\n",
        "В этом задании функция print вам не понадобится. Результаты выполнения функций нужно возвращать, а не печатать!\n",
        "\n",
        "Если в тексте все слова являются мусорными, текст должен преобразоваться в пустую строку."
      ]
    },
    {
      "cell_type": "code",
      "metadata": {
        "id": "qbru1YAoVDg2"
      },
      "source": [
        "def process(sentences):\n",
        "  sentences_right=[0] * len(sentences)\n",
        "  for k in range(0, len(sentences)):\n",
        "    sentences_right[k] =\" \".join(i for i in sentences[k].split(' ') if i.isalpha())\n",
        "\n",
        "  result =  sentences_right\n",
        "  return result"
      ],
      "execution_count": 187,
      "outputs": []
    },
    {
      "cell_type": "code",
      "metadata": {
        "id": "ARKwF8uqWMu-"
      },
      "source": [
        "check = ['1 thousand devils', 'My name is 9Pasha', 'Room #125 costs $100', '888']"
      ],
      "execution_count": 188,
      "outputs": []
    },
    {
      "cell_type": "code",
      "metadata": {
        "colab": {
          "base_uri": "https://localhost:8080/"
        },
        "id": "Wpb4ol_bSuL-",
        "outputId": "53142df6-86ae-4679-d6d1-137f2b034d68"
      },
      "source": [
        "process(check)"
      ],
      "execution_count": 191,
      "outputs": [
        {
          "output_type": "execute_result",
          "data": {
            "text/plain": [
              "['thousand devils', 'My name is', 'Room costs', '']"
            ]
          },
          "metadata": {},
          "execution_count": 191
        }
      ]
    },
    {
      "cell_type": "markdown",
      "metadata": {
        "id": "eRZbnTVaYzlj"
      },
      "source": [
        "**Собственный класс \"Нейрон\"**\n",
        "\n",
        "Реализуйте класс \"Нейрон\", у которого будет несколько методов: \n",
        "\n",
        "* init. Принимает на вход массив весов нейрона w=(w1,…,wn), а также функцию активации f (аргумент по умолчанию f(x)=x). Сохраняет веса и функцию внутри класса.\n",
        "* forward. Принимает на вход массив x=(x1,…,xn) входы нейрона. Возвращает f(w1x1+…+wnxn).\n",
        "* backlog. Возвращает массив x, который подавался на вход функции forward при её последнем вызове. Если ранее функция forward не вызывалось, возвращает None."
      ]
    },
    {
      "cell_type": "code",
      "metadata": {
        "id": "3f6OvYl-ZcJZ"
      },
      "source": [
        "###не работает\n",
        "class Neuron:\n",
        "\n",
        "    def __init__(self, w, f = lambda x: x):\n",
        "        self.w = w\n",
        "        self.f = f\n",
        "\n",
        "    def forward(self, x):\n",
        "      self.x = x\n",
        "      for i in range (0,len(self)):\n",
        "        self[i]=self[i]*x[i]\n",
        "      sum_ = sum(self)\n",
        "      \n",
        "      return self.f(sum_)\n",
        "\n",
        "    def backlog(self):\n",
        "      return x"
      ],
      "execution_count": 198,
      "outputs": []
    }
  ]
}